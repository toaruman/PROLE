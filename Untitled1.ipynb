{
 "cells": [
  {
   "cell_type": "code",
   "execution_count": 5,
   "id": "1431f1b5-1d86-4676-94b0-42ae9f6d4dfc",
   "metadata": {
    "tags": []
   },
   "outputs": [],
   "source": [
    "%run rakuten_scraper.py"
   ]
  },
  {
   "cell_type": "code",
   "execution_count": 7,
   "id": "b19daf21-5231-4c01-bf14-b665b5f71010",
   "metadata": {
    "tags": []
   },
   "outputs": [],
   "source": [
    "!python rakuten_scraper.py"
   ]
  },
  {
   "cell_type": "code",
   "execution_count": 9,
   "id": "b4977f9b-b802-48d6-a4f5-ee84c2aa7fa2",
   "metadata": {
    "tags": []
   },
   "outputs": [
    {
     "name": "stdout",
     "output_type": "stream",
     "text": [
      "['https://search.rakuten.co.jp/search/mall/%E3%82%AA%E3%83%BC%E3%82%AC%E3%83%8B%E3%83%83%E3%82%AF%E3%82%B3%E3%83%83%E3%83%88%E3%83%B3+T%E3%82%B7%E3%83%A3%E3%83%84/?min=10000']\n"
     ]
    }
   ],
   "source": [
    "with open(\"urls.txt\", encoding=\"utf-8\") as f:\n",
    "    print(f.readlines())"
   ]
  }
 ],
 "metadata": {
  "kernelspec": {
   "display_name": "Python 3 (ipykernel)",
   "language": "python",
   "name": "python3"
  },
  "language_info": {
   "codemirror_mode": {
    "name": "ipython",
    "version": 3
   },
   "file_extension": ".py",
   "mimetype": "text/x-python",
   "name": "python",
   "nbconvert_exporter": "python",
   "pygments_lexer": "ipython3",
   "version": "3.11.7"
  }
 },
 "nbformat": 4,
 "nbformat_minor": 5
}
