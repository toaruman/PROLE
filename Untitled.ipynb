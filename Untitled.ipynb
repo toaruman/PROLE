{
 "cells": [
  {
   "cell_type": "code",
   "execution_count": 1,
   "id": "aca04134-bbec-4fd6-9a22-6a4cc2b013e6",
   "metadata": {
    "tags": []
   },
   "outputs": [
    {
     "name": "stdout",
     "output_type": "stream",
     "text": [
      "既存の企業リスト ./rakuten_scraping.csv を読み込みます。\n",
      "既存のショップID数: 8061\n",
      "例: https://www.rakuten.co.jp/category/110729/ または https://search.rakuten.co.jp/search/mall/レディースファッション\n",
      "\n",
      "==== https://search.rakuten.co.jp/search/mall/%E3%82%AA%E3%83%BC%E3%82%AC%E3%83%8B%E3%83%83%E3%82%AF%E3%82%B3%E3%83%83%E3%83%88%E3%83%B3+T%E3%82%B7%E3%83%A3%E3%83%84/?min=10000 のスクレイピングを開始 ====\n",
      "【ページ 1 をクロール中】 https://search.rakuten.co.jp/search/mall/%E3%82%AA%E3%83%BC%E3%82%AC%E3%83%8B%E3%83%83%E3%82%AF%E3%82%B3%E3%83%83%E3%83%88%E3%83%B3+T%E3%82%B7%E3%83%A3%E3%83%84/?min=10000\n",
      "アクセス中: https://search.rakuten.co.jp/search/mall/%E3%82%AA%E3%83%BC%E3%82%AC%E3%83%8B%E3%83%83%E3%82%AF%E3%82%B3%E3%83%83%E3%83%88%E3%83%B3+T%E3%82%B7%E3%83%A3%E3%83%84/?min=10000 | 既存リンク数: 0\n",
      "ステータスコード: 503, コンテンツタイプ: text/html\n",
      "ページ遷移用リンクの取得に失敗: 503 Server Error: Service Unavailable for url: https://search.rakuten.co.jp/search/mall/%E3%82%AA%E3%83%BC%E3%82%AC%E3%83%8B%E3%83%83%E3%82%AF%E3%82%B3%E3%83%83%E3%83%88%E3%83%B3+T%E3%82%B7%E3%83%A3%E3%83%84/?min=10000\n",
      "合計 0 ページをクロールしました。\n",
      "\n",
      "最終的な商品ページURL数: 0\n",
      "取得した新規ショップURLの数: 0\n",
      "\n",
      "--- CSV出力完了 ---\n",
      "ファイル: ./csv_data/2025-04-07_10-51-04-company_info.csv\n",
      "新しいショップURLは見つかりませんでした。\n",
      "処理が完了しました。\n"
     ]
    }
   ],
   "source": [
    "%run rakuten_scraper.py"
   ]
  }
 ],
 "metadata": {
  "kernelspec": {
   "display_name": "Python 3 (ipykernel)",
   "language": "python",
   "name": "python3"
  },
  "language_info": {
   "codemirror_mode": {
    "name": "ipython",
    "version": 3
   },
   "file_extension": ".py",
   "mimetype": "text/x-python",
   "name": "python",
   "nbconvert_exporter": "python",
   "pygments_lexer": "ipython3",
   "version": "3.11.7"
  }
 },
 "nbformat": 4,
 "nbformat_minor": 5
}
